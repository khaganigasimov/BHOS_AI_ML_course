{
 "cells": [
  {
   "cell_type": "markdown",
   "id": "a6cdd608",
   "metadata": {},
   "source": [
    "<h1>Importing All Necessary Modules and Reading Dataset</h1>"
   ]
  },
  {
   "cell_type": "code",
   "execution_count": 1,
   "id": "aeb76921",
   "metadata": {},
   "outputs": [],
   "source": [
    "import numpy as np\n",
    "import pandas as pd\n",
    "import matplotlib.pyplot as plt\n",
    "import seaborn as sns\n",
    "\n",
    "from sklearn.preprocessing import StandardScaler\n",
    "from sklearn.model_selection import train_test_split\n",
    "from sklearn.linear_model import LogisticRegression\n",
    "\n",
    "from sklearn.metrics import accuracy_score\n",
    "\n",
    "## You can skip the below if you don't have the corresponding method\n",
    "# from stats.special import expit"
   ]
  },
  {
   "cell_type": "markdown",
   "id": "d49ec463",
   "metadata": {},
   "source": [
    "<h1>Data Analysis</h1>"
   ]
  },
  {
   "cell_type": "markdown",
   "id": "ef015904",
   "metadata": {},
   "source": [
    "Read dataset of diabetes_prediction_dataset.csv"
   ]
  },
  {
   "cell_type": "code",
   "execution_count": 2,
   "id": "7a2cfa77",
   "metadata": {},
   "outputs": [],
   "source": [
    "df = pd.read_csv('../data/diabetes_prediction_dataset.csv')"
   ]
  },
  {
   "cell_type": "code",
   "execution_count": 3,
   "id": "e2a955ad",
   "metadata": {},
   "outputs": [
    {
     "data": {
      "text/html": [
       "<div>\n",
       "<style scoped>\n",
       "    .dataframe tbody tr th:only-of-type {\n",
       "        vertical-align: middle;\n",
       "    }\n",
       "\n",
       "    .dataframe tbody tr th {\n",
       "        vertical-align: top;\n",
       "    }\n",
       "\n",
       "    .dataframe thead th {\n",
       "        text-align: right;\n",
       "    }\n",
       "</style>\n",
       "<table border=\"1\" class=\"dataframe\">\n",
       "  <thead>\n",
       "    <tr style=\"text-align: right;\">\n",
       "      <th></th>\n",
       "      <th>gender</th>\n",
       "      <th>age</th>\n",
       "      <th>hypertension</th>\n",
       "      <th>heart_disease</th>\n",
       "      <th>smoking_history</th>\n",
       "      <th>bmi</th>\n",
       "      <th>HbA1c_level</th>\n",
       "      <th>blood_glucose_level</th>\n",
       "      <th>diabetes</th>\n",
       "    </tr>\n",
       "  </thead>\n",
       "  <tbody>\n",
       "    <tr>\n",
       "      <th>0</th>\n",
       "      <td>Female</td>\n",
       "      <td>80.0</td>\n",
       "      <td>0</td>\n",
       "      <td>1</td>\n",
       "      <td>never</td>\n",
       "      <td>25.19</td>\n",
       "      <td>6.6</td>\n",
       "      <td>140</td>\n",
       "      <td>0</td>\n",
       "    </tr>\n",
       "    <tr>\n",
       "      <th>1</th>\n",
       "      <td>Female</td>\n",
       "      <td>54.0</td>\n",
       "      <td>0</td>\n",
       "      <td>0</td>\n",
       "      <td>No Info</td>\n",
       "      <td>27.32</td>\n",
       "      <td>6.6</td>\n",
       "      <td>80</td>\n",
       "      <td>0</td>\n",
       "    </tr>\n",
       "    <tr>\n",
       "      <th>2</th>\n",
       "      <td>Male</td>\n",
       "      <td>28.0</td>\n",
       "      <td>0</td>\n",
       "      <td>0</td>\n",
       "      <td>never</td>\n",
       "      <td>27.32</td>\n",
       "      <td>5.7</td>\n",
       "      <td>158</td>\n",
       "      <td>0</td>\n",
       "    </tr>\n",
       "    <tr>\n",
       "      <th>3</th>\n",
       "      <td>Female</td>\n",
       "      <td>36.0</td>\n",
       "      <td>0</td>\n",
       "      <td>0</td>\n",
       "      <td>current</td>\n",
       "      <td>23.45</td>\n",
       "      <td>5.0</td>\n",
       "      <td>155</td>\n",
       "      <td>0</td>\n",
       "    </tr>\n",
       "    <tr>\n",
       "      <th>4</th>\n",
       "      <td>Male</td>\n",
       "      <td>76.0</td>\n",
       "      <td>1</td>\n",
       "      <td>1</td>\n",
       "      <td>current</td>\n",
       "      <td>20.14</td>\n",
       "      <td>4.8</td>\n",
       "      <td>155</td>\n",
       "      <td>0</td>\n",
       "    </tr>\n",
       "  </tbody>\n",
       "</table>\n",
       "</div>"
      ],
      "text/plain": [
       "   gender   age  hypertension  heart_disease smoking_history    bmi   \n",
       "0  Female  80.0             0              1           never  25.19  \\\n",
       "1  Female  54.0             0              0         No Info  27.32   \n",
       "2    Male  28.0             0              0           never  27.32   \n",
       "3  Female  36.0             0              0         current  23.45   \n",
       "4    Male  76.0             1              1         current  20.14   \n",
       "\n",
       "   HbA1c_level  blood_glucose_level  diabetes  \n",
       "0          6.6                  140         0  \n",
       "1          6.6                   80         0  \n",
       "2          5.7                  158         0  \n",
       "3          5.0                  155         0  \n",
       "4          4.8                  155         0  "
      ]
     },
     "execution_count": 3,
     "metadata": {},
     "output_type": "execute_result"
    }
   ],
   "source": [
    "df.head()"
   ]
  },
  {
   "cell_type": "markdown",
   "id": "ae7fafd3",
   "metadata": {},
   "source": [
    "Check shape, dtypes, nan values, number of unique values (with nunique function), and correlations"
   ]
  },
  {
   "cell_type": "code",
   "execution_count": 4,
   "id": "9cdb9043",
   "metadata": {},
   "outputs": [
    {
     "data": {
      "text/plain": [
       "(100000, 9)"
      ]
     },
     "execution_count": 4,
     "metadata": {},
     "output_type": "execute_result"
    }
   ],
   "source": [
    "df.shape"
   ]
  },
  {
   "cell_type": "code",
   "execution_count": 5,
   "id": "cd9219f1",
   "metadata": {},
   "outputs": [
    {
     "data": {
      "text/plain": [
       "gender                  object\n",
       "age                    float64\n",
       "hypertension             int64\n",
       "heart_disease            int64\n",
       "smoking_history         object\n",
       "bmi                    float64\n",
       "HbA1c_level            float64\n",
       "blood_glucose_level      int64\n",
       "diabetes                 int64\n",
       "dtype: object"
      ]
     },
     "execution_count": 5,
     "metadata": {},
     "output_type": "execute_result"
    }
   ],
   "source": [
    "df.dtypes"
   ]
  },
  {
   "cell_type": "code",
   "execution_count": 6,
   "id": "977b7f42",
   "metadata": {},
   "outputs": [
    {
     "data": {
      "text/plain": [
       "gender                 0.0\n",
       "age                    0.0\n",
       "hypertension           0.0\n",
       "heart_disease          0.0\n",
       "smoking_history        0.0\n",
       "bmi                    0.0\n",
       "HbA1c_level            0.0\n",
       "blood_glucose_level    0.0\n",
       "diabetes               0.0\n",
       "dtype: float64"
      ]
     },
     "execution_count": 6,
     "metadata": {},
     "output_type": "execute_result"
    }
   ],
   "source": [
    "df.isna().sum(0)/df.shape[0]"
   ]
  },
  {
   "cell_type": "code",
   "execution_count": 7,
   "id": "77e07c3b",
   "metadata": {},
   "outputs": [
    {
     "data": {
      "text/plain": [
       "gender                    3\n",
       "age                     102\n",
       "hypertension              2\n",
       "heart_disease             2\n",
       "smoking_history           6\n",
       "bmi                    4247\n",
       "HbA1c_level              18\n",
       "blood_glucose_level      18\n",
       "diabetes                  2\n",
       "dtype: int64"
      ]
     },
     "execution_count": 7,
     "metadata": {},
     "output_type": "execute_result"
    }
   ],
   "source": [
    "df.nunique()"
   ]
  },
  {
   "cell_type": "code",
   "execution_count": 8,
   "id": "efbda0f0",
   "metadata": {},
   "outputs": [
    {
     "data": {
      "text/plain": [
       "diabetes               1.000000\n",
       "blood_glucose_level    0.419558\n",
       "HbA1c_level            0.400660\n",
       "age                    0.258008\n",
       "bmi                    0.214357\n",
       "hypertension           0.197823\n",
       "heart_disease          0.171727\n",
       "Name: diabetes, dtype: float64"
      ]
     },
     "execution_count": 8,
     "metadata": {},
     "output_type": "execute_result"
    }
   ],
   "source": [
    "df.corr(numeric_only = True)['diabetes'].sort_values(ascending = False)"
   ]
  },
  {
   "cell_type": "code",
   "execution_count": null,
   "id": "2e4223fb",
   "metadata": {},
   "outputs": [],
   "source": []
  },
  {
   "cell_type": "markdown",
   "id": "1751b380",
   "metadata": {},
   "source": [
    "Make a scatter plot with columns of HbA1c_level and diabetes. See patterns"
   ]
  },
  {
   "cell_type": "code",
   "execution_count": 9,
   "id": "65916291",
   "metadata": {},
   "outputs": [
    {
     "data": {
      "text/plain": [
       "<matplotlib.collections.PathCollection at 0x2a426d569b0>"
      ]
     },
     "execution_count": 9,
     "metadata": {},
     "output_type": "execute_result"
    },
    {
     "data": {
      "image/png": "[encoded data removed]",
      "text/plain": [
       "<Figure size 640x480 with 1 Axes>"
      ]
     },
     "metadata": {},
     "output_type": "display_data"
    }
   ],
   "source": [
    "plt.scatter(df['HbA1c_level'], df['diabetes'], c = df['diabetes'])"
   ]
  },
  {
   "cell_type": "markdown",
   "id": "882f3a8d",
   "metadata": {},
   "source": [
    "Plot distribution of diabetes with displot method of seaborn library"
   ]
  },
  {
   "cell_type": "code",
   "execution_count": 10,
   "id": "f266dd99",
   "metadata": {},
   "outputs": [
    {
     "data": {
      "text/plain": [
       "<seaborn.axisgrid.FacetGrid at 0x2a426d01a20>"
      ]
     },
     "execution_count": 10,
     "metadata": {},
     "output_type": "execute_result"
    },
    {
     "data": {
      "image/png": "[encoded data removed]",
      "text/plain": [
       "<Figure size 500x500 with 1 Axes>"
      ]
     },
     "metadata": {},
     "output_type": "display_data"
    }
   ],
   "source": [
    "sns.displot(df['diabetes'])"
   ]
  },
  {
   "cell_type": "markdown",
   "id": "823e3a71",
   "metadata": {},
   "source": [
    "<h1>Data Preparation</h1>"
   ]
  },
  {
   "cell_type": "markdown",
   "id": "b3dd0c2f",
   "metadata": {},
   "source": [
    "It was already confirmed that one hot encoded version of object columns have no considerable effect on target column. So choose only np.int64 and np.float64 as main features."
   ]
  },
  {
   "cell_type": "code",
   "execution_count": 11,
   "id": "1f633028",
   "metadata": {},
   "outputs": [],
   "source": [
    "numdf = df.select_dtypes([np.float64, np.int64])"
   ]
  },
  {
   "cell_type": "code",
   "execution_count": null,
   "id": "77250668",
   "metadata": {},
   "outputs": [],
   "source": []
  },
  {
   "cell_type": "markdown",
   "id": "0936efe8",
   "metadata": {},
   "source": [
    "Scale continuous columns and split total dataset into train and test parts"
   ]
  },
  {
   "cell_type": "code",
   "execution_count": 12,
   "id": "8224978d",
   "metadata": {},
   "outputs": [],
   "source": [
    "X = numdf.drop('diabetes', axis = 1)\n",
    "y = numdf.diabetes"
   ]
  },
  {
   "cell_type": "code",
   "execution_count": 13,
   "id": "37ff4bdf",
   "metadata": {},
   "outputs": [],
   "source": [
    "ss = StandardScaler().fit(X[['age', 'bmi', 'HbA1c_level', 'blood_glucose_level']])\n",
    "X[['age', 'bmi', 'HbA1c_level', 'blood_glucose_level']] = ss.transform(X[['age', 'bmi', 'HbA1c_level', 'blood_glucose_level']])"
   ]
  },
  {
   "cell_type": "code",
   "execution_count": 14,
   "id": "9829a6c7",
   "metadata": {},
   "outputs": [],
   "source": [
    "X_train, X_test, y_train, y_test = train_test_split(X, y)"
   ]
  },
  {
   "cell_type": "code",
   "execution_count": null,
   "id": "ac4e5721",
   "metadata": {},
   "outputs": [],
   "source": []
  },
  {
   "cell_type": "markdown",
   "id": "71ebc369",
   "metadata": {},
   "source": [
    "<h1>Modeling</h1>"
   ]
  },
  {
   "cell_type": "markdown",
   "id": "0bb31874",
   "metadata": {},
   "source": [
    "Train with default parameters and see your results. Use accuracy_score for evaluating the model on only Class - 1. Is the score for class - 1  high enough?"
   ]
  },
  {
   "cell_type": "code",
   "execution_count": 15,
   "id": "b4a09e78",
   "metadata": {},
   "outputs": [],
   "source": [
    "lr = LogisticRegression().fit(X_train, y_train)"
   ]
  },
  {
   "cell_type": "code",
   "execution_count": 16,
   "id": "ffc0ac65",
   "metadata": {},
   "outputs": [
    {
     "data": {
      "text/plain": [
       "0.9592"
      ]
     },
     "execution_count": 16,
     "metadata": {},
     "output_type": "execute_result"
    }
   ],
   "source": [
    "lr.score(X_test, y_test)"
   ]
  },
  {
   "cell_type": "code",
   "execution_count": 17,
   "id": "72d13cdb",
   "metadata": {},
   "outputs": [
    {
     "name": "stdout",
     "output_type": "stream",
     "text": [
      "recall for class 1: 0.6111111111111112\n"
     ]
    }
   ],
   "source": [
    "y_pred = lr.predict(X_test)\n",
    "\n",
    "print('recall for class 1:', accuracy_score(y_test[y_test == 1], y_pred[y_test == 1]))"
   ]
  },
  {
   "cell_type": "code",
   "execution_count": null,
   "id": "010e6f6d",
   "metadata": {},
   "outputs": [],
   "source": []
  },
  {
   "cell_type": "markdown",
   "id": "49e50f4f",
   "metadata": {},
   "source": [
    "Use class_weight = 'balanced' to fix the imbalancing in dataset and see your results. Is the score for class - 1 high enough?"
   ]
  },
  {
   "cell_type": "code",
   "execution_count": 18,
   "id": "7ac8cb27",
   "metadata": {},
   "outputs": [
    {
     "name": "stdout",
     "output_type": "stream",
     "text": [
      "recall for class 0: 0.8878308727177426\n",
      "recall for class 1: 0.8760683760683761\n"
     ]
    }
   ],
   "source": [
    "lr = LogisticRegression(class_weight = 'balanced').fit(X_train, y_train)\n",
    "y_pred = lr.predict(X_test)\n",
    "\n",
    "print('recall for class 0:', accuracy_score(y_test[y_test == 0], y_pred[y_test == 0]))\n",
    "print('recall for class 1:', accuracy_score(y_test[y_test == 1], y_pred[y_test == 1]))"
   ]
  },
  {
   "cell_type": "code",
   "execution_count": null,
   "id": "1a5f70b0",
   "metadata": {},
   "outputs": [],
   "source": []
  },
  {
   "cell_type": "markdown",
   "id": "5260c457",
   "metadata": {},
   "source": [
    "Fit LogisticRegression again with only HbA1c_level column. Make predictions of both classes and probabilities (with predict_proba) on (the corresponding column of) test dataset."
   ]
  },
  {
   "cell_type": "markdown",
   "id": "50fd789e",
   "metadata": {},
   "source": [
    "Predicted probability array contains two probabilities for each row. 0th column indicates Class 0 while the other is for Class 1. "
   ]
  },
  {
   "cell_type": "code",
   "execution_count": 19,
   "id": "5530af1b",
   "metadata": {},
   "outputs": [],
   "source": [
    "lr2 = LogisticRegression(class_weight = None).fit(X_train[['HbA1c_level']], y_train)\n",
    "y_pred2 = lr2.predict(X_test[['HbA1c_level']])\n",
    "y_proba2 = lr2.predict_proba(X_test[['HbA1c_level']])"
   ]
  },
  {
   "cell_type": "code",
   "execution_count": 20,
   "id": "14f5bbb3",
   "metadata": {},
   "outputs": [
    {
     "data": {
      "text/plain": [
       "array([[9.96729490e-01, 3.27050992e-03],\n",
       "       [9.94685616e-01, 5.31438448e-03],\n",
       "       [9.96729490e-01, 3.27050992e-03],\n",
       "       ...,\n",
       "       [9.63803104e-01, 3.61968963e-02],\n",
       "       [9.99533427e-01, 4.66573004e-04],\n",
       "       [9.09444060e-01, 9.05559400e-02]])"
      ]
     },
     "execution_count": 20,
     "metadata": {},
     "output_type": "execute_result"
    }
   ],
   "source": [
    "y_proba2"
   ]
  },
  {
   "cell_type": "code",
   "execution_count": null,
   "id": "60162ee2",
   "metadata": {},
   "outputs": [],
   "source": []
  },
  {
   "cell_type": "markdown",
   "id": "1a1c3885",
   "metadata": {},
   "source": [
    "Plot scatter of the feature and prediced classes."
   ]
  },
  {
   "cell_type": "code",
   "execution_count": 21,
   "id": "b6bce0ed",
   "metadata": {},
   "outputs": [
    {
     "data": {
      "text/plain": [
       "<matplotlib.collections.PathCollection at 0x2a426baf910>"
      ]
     },
     "execution_count": 21,
     "metadata": {},
     "output_type": "execute_result"
    },
    {
     "data": {
      "image/png": "[encoded data removed]",
      "text/plain": [
       "<Figure size 640x480 with 1 Axes>"
      ]
     },
     "metadata": {},
     "output_type": "display_data"
    }
   ],
   "source": [
    "plt.scatter(X_test['HbA1c_level'], y_pred2, c = y_test)"
   ]
  },
  {
   "cell_type": "code",
   "execution_count": null,
   "id": "379dc711",
   "metadata": {},
   "outputs": [],
   "source": []
  },
  {
   "cell_type": "markdown",
   "id": "01ae6a8d",
   "metadata": {},
   "source": [
    "Plot scatter of the feature and predicted probabilities of Class 1. "
   ]
  },
  {
   "cell_type": "code",
   "execution_count": 22,
   "id": "5cd07351",
   "metadata": {},
   "outputs": [
    {
     "data": {
      "text/plain": [
       "<matplotlib.collections.PathCollection at 0x2a4277974f0>"
      ]
     },
     "execution_count": 22,
     "metadata": {},
     "output_type": "execute_result"
    },
    {
     "data": {
      "image/png": "[encoded data removed]",
      "text/plain": [
       "<Figure size 640x480 with 1 Axes>"
      ]
     },
     "metadata": {},
     "output_type": "display_data"
    }
   ],
   "source": [
    "plt.scatter(X_test['HbA1c_level'], y_proba2[:, 1], c = y_test)"
   ]
  },
  {
   "cell_type": "markdown",
   "id": "e333db50",
   "metadata": {},
   "source": [
    "There are two attributes that are essential to be used in this notebook - coef_ and intercept_. Your task is to predict with these attributes. Follow the steps shown in the picture originally taken from lecture slides, and use scipy.special.expit method for transforming values into probabilities. If you don't have access to it, create your own expit function by default. "
   ]
  },
  {
   "cell_type": "markdown",
   "id": "5e6c9b0b",
   "metadata": {},
   "source": [
    "Ps: expit is sigmoid function"
   ]
  },
  {
   "attachments": {
    "steps.png": {
     "image/png": "[encoded data removed]"
    }
   },
   "cell_type": "markdown",
   "id": "5db819c6",
   "metadata": {},
   "source": [
    "![steps.png](attachment:steps.png)"
   ]
  },
  {
   "cell_type": "code",
   "execution_count": 23,
   "id": "d351e8d6",
   "metadata": {},
   "outputs": [],
   "source": [
    "expit = lambda z: 1 / (1 + np.exp(-z))"
   ]
  },
  {
   "cell_type": "code",
   "execution_count": 24,
   "id": "742e96ff",
   "metadata": {},
   "outputs": [],
   "source": [
    "z = X_test[['HbA1c_level']].values * lr2.coef_ + lr2.intercept_\n",
    "probas = expit(z)"
   ]
  },
  {
   "cell_type": "code",
   "execution_count": null,
   "id": "f11c5429",
   "metadata": {},
   "outputs": [],
   "source": []
  },
  {
   "cell_type": "markdown",
   "id": "2cdce340",
   "metadata": {},
   "source": [
    "Once your computation is done, you should have achieved probabilities. In case of probability > 0.5, the datapoint belongs to class 1. Predict classes."
   ]
  },
  {
   "cell_type": "code",
   "execution_count": 25,
   "id": "192d345e",
   "metadata": {},
   "outputs": [],
   "source": [
    "preds = probas.copy()\n",
    "preds[probas > 0.5] = 1\n",
    "preds[probas <= 0.5] = 0"
   ]
  },
  {
   "cell_type": "markdown",
   "id": "848c71ab",
   "metadata": {},
   "source": [
    "Compare your results with LogisticRegression predict method"
   ]
  },
  {
   "cell_type": "code",
   "execution_count": 26,
   "id": "54d43559",
   "metadata": {},
   "outputs": [
    {
     "data": {
      "text/plain": [
       "1.0"
      ]
     },
     "execution_count": 26,
     "metadata": {},
     "output_type": "execute_result"
    }
   ],
   "source": [
    "accuracy_score(y_pred2, preds)"
   ]
  }
 ],
 "metadata": {
  "kernelspec": {
   "display_name": "Python 3 (ipykernel)",
   "language": "python",
   "name": "python3"
  },
  "language_info": {
   "codemirror_mode": {
    "name": "ipython",
    "version": 3
   },
   "file_extension": ".py",
   "mimetype": "text/x-python",
   "name": "python",
   "nbconvert_exporter": "python",
   "pygments_lexer": "ipython3",
   "version": "3.10.7"
  }
 },
 "nbformat": 4,
 "nbformat_minor": 5
}
