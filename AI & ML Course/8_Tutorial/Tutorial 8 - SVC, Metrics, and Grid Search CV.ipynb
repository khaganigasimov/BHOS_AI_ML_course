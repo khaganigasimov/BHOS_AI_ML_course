{
 "cells": [
  {
   "cell_type": "markdown",
   "id": "77074b7c",
   "metadata": {},
   "source": [
    "<h1>Importing All Necessary Modules<h1>"
   ]
  },
  {
   "cell_type": "code",
   "execution_count": 8,
   "id": "f9bfc16f",
   "metadata": {},
   "outputs": [],
   "source": [
    "import numpy as np\n",
    "import pandas as pd\n",
    "import matplotlib.pyplot as plt\n",
    "import seaborn as sns\n",
    "\n",
    "from sklearn.model_selection import train_test_split, GridSearchCV\n",
    "from sklearn.svm import SVC\n",
    "from sklearn.metrics import precision_score, recall_score, f1_score, confusion_matrix\n"
   ]
  },
  {
   "cell_type": "markdown",
   "id": "adc24b3f",
   "metadata": {},
   "source": [
    "Cervical Cancer Risk Factors for Biopsy: This Dataset is Obtained from UCI Repository and kindly acknowledged!\n",
    "This file contains a List of Risk Factors for Cervical Cancer leading to a **Biopsy** Examination!"
   ]
  },
  {
   "cell_type": "markdown",
   "id": "8d41c968",
   "metadata": {},
   "source": [
    "<h1>Data Preparation<h1>"
   ]
  },
  {
   "cell_type": "markdown",
   "id": "b1d9c77e",
   "metadata": {},
   "source": [
    "Read the dataset and choose only numerical data. There are some columns containing nan values notated as '?'. For this tutorial, you can ignore those to save some time. Analyze your dataset and check whether Biopsy target column is well balanced or not."
   ]
  },
  {
   "cell_type": "code",
   "execution_count": null,
   "id": "2a6f4137",
   "metadata": {},
   "outputs": [],
   "source": []
  },
  {
   "cell_type": "markdown",
   "id": "31fb2078",
   "metadata": {},
   "source": [
    "<h1>Modeling<h1>"
   ]
  },
  {
   "cell_type": "markdown",
   "id": "34ff6640",
   "metadata": {},
   "source": [
    "Choosen X and y and split them into train and test parts. Fit your SVC model with default parameters and get predictions for test dataset. "
   ]
  },
  {
   "cell_type": "code",
   "execution_count": null,
   "id": "cdf28fa4",
   "metadata": {},
   "outputs": [],
   "source": []
  },
  {
   "cell_type": "markdown",
   "id": "f14a65cf",
   "metadata": {},
   "source": [
    "Obtain a confusion matrix. Note that it is important if you input test or predictions first. Usually, first argument is defined as true values of target while the second one is predictions. "
   ]
  },
  {
   "cell_type": "code",
   "execution_count": null,
   "id": "91dc42b5",
   "metadata": {},
   "outputs": [],
   "source": []
  },
  {
   "cell_type": "markdown",
   "id": "833ae480",
   "metadata": {},
   "source": [
    "Plot a confusion matrix by using heatmap method in seaborn library. Use the parameter of annot = True."
   ]
  },
  {
   "cell_type": "code",
   "execution_count": null,
   "id": "7915eef0",
   "metadata": {},
   "outputs": [],
   "source": []
  },
  {
   "cell_type": "markdown",
   "id": "a58ccc44",
   "metadata": {},
   "source": [
    "Obtain precision, recall, and f1 scores. There is a parameter of pos_label which can only be used for binary classification. It can be defined as 0 and 1 for this dataset since they are unique values of classes."
   ]
  },
  {
   "cell_type": "code",
   "execution_count": null,
   "id": "83631cce",
   "metadata": {},
   "outputs": [],
   "source": []
  },
  {
   "cell_type": "markdown",
   "id": "70cb6104",
   "metadata": {},
   "source": [
    "By looking at confusion matrix, apply the following formulas and compare your findings with predefined values of precision, recall, and f1 scores"
   ]
  },
  {
   "attachments": {
    "formulas.png": {
     "image/png": "[encoded data removed]"
    }
   },
   "cell_type": "markdown",
   "id": "d27e64b5",
   "metadata": {},
   "source": [
    "![formulas.png](attachment:formulas.png)"
   ]
  },
  {
   "cell_type": "code",
   "execution_count": null,
   "id": "fe56d2ef",
   "metadata": {},
   "outputs": [],
   "source": []
  },
  {
   "cell_type": "markdown",
   "id": "74943e59",
   "metadata": {},
   "source": [
    "Play around fix parameters to fix overfitting issue and plot a confusion matrix again to see how results changed later. Use GridSearchCV. There is an exemplary applications available on the next cell"
   ]
  },
  {
   "cell_type": "code",
   "execution_count": 20,
   "id": "8e778524",
   "metadata": {},
   "outputs": [],
   "source": [
    "param_grid = {'class_weight': ['balanced'],\n",
    "         'C': [1, 10]}\n",
    "\n",
    "gscv = GridSearchCV(\n",
    "    clf,\n",
    "    param_grid = param_grid,\n",
    "    cv = 5,\n",
    "    n_jobs = -1 # used for benefitting from all available CPU\n",
    "    )\n"
   ]
  },
  {
   "cell_type": "markdown",
   "id": "f02eca29",
   "metadata": {},
   "source": [
    "Fit the new estimator"
   ]
  },
  {
   "cell_type": "code",
   "execution_count": null,
   "id": "98456dbe",
   "metadata": {},
   "outputs": [],
   "source": []
  }
 ],
 "metadata": {
  "kernelspec": {
   "display_name": "Python 3 (ipykernel)",
   "language": "python",
   "name": "python3"
  },
  "language_info": {
   "codemirror_mode": {
    "name": "ipython",
    "version": 3
   },
   "file_extension": ".py",
   "mimetype": "text/x-python",
   "name": "python",
   "nbconvert_exporter": "python",
   "pygments_lexer": "ipython3",
   "version": "3.10.7"
  }
 },
 "nbformat": 4,
 "nbformat_minor": 5
}
