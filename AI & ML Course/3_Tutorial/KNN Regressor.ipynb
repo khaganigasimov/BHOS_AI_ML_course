{
 "cells": [
  {
   "cell_type": "markdown",
   "id": "3027c263",
   "metadata": {},
   "source": [
    "<h4>Importing Modules</h4>"
   ]
  },
  {
   "cell_type": "code",
   "execution_count": 1,
   "id": "85e5ef81",
   "metadata": {},
   "outputs": [],
   "source": [
    "import numpy as np\n",
    "\n",
    "from sklearn.model_selection import train_test_split\n",
    "from sklearn.datasets import make_regression\n",
    "from sklearn.neighbors import KNeighborsRegressor"
   ]
  },
  {
   "cell_type": "markdown",
   "id": "32794d5e",
   "metadata": {},
   "source": [
    "<h4>Preparing and Splitting Data</h4>"
   ]
  },
  {
   "cell_type": "code",
   "execution_count": 2,
   "id": "f3e3f2c7",
   "metadata": {},
   "outputs": [],
   "source": [
    "dataset = make_regression(n_samples = 200, n_features = 5, random_state = 42)\n",
    "feature, target = dataset"
   ]
  },
  {
   "cell_type": "code",
   "execution_count": 3,
   "id": "aaba12ca",
   "metadata": {},
   "outputs": [],
   "source": [
    "X_train, X_test, y_train, y_test = train_test_split(feature, target, random_state = 42)"
   ]
  },
  {
   "cell_type": "code",
   "execution_count": null,
   "id": "e3c3fc0f",
   "metadata": {},
   "outputs": [],
   "source": []
  },
  {
   "cell_type": "markdown",
   "id": "7f2cefc0",
   "metadata": {},
   "source": [
    "<h4>Taking a data point and determining nearest points</h4>"
   ]
  },
  {
   "cell_type": "code",
   "execution_count": 4,
   "id": "858f839f",
   "metadata": {},
   "outputs": [],
   "source": [
    "datapoint = X_test[0]\n",
    "k = 5\n",
    "\n",
    "distances = ((X_train - datapoint) ** 2).sum(axis = 1)\n",
    "index = np.argsort(distances)[:k]\n",
    "nearest_points = y_train[index]"
   ]
  },
  {
   "cell_type": "markdown",
   "id": "d4c84612",
   "metadata": {},
   "source": [
    "<h4>Prediction</h4>"
   ]
  },
  {
   "cell_type": "code",
   "execution_count": 5,
   "id": "67eff677",
   "metadata": {},
   "outputs": [],
   "source": [
    "expected_value = nearest_points.mean()"
   ]
  },
  {
   "cell_type": "code",
   "execution_count": 6,
   "id": "a24ff6e3",
   "metadata": {},
   "outputs": [
    {
     "name": "stdout",
     "output_type": "stream",
     "text": [
      "Predicted Value: -134.24082137338866\n",
      "Actual Value: -150.8382962218091\n"
     ]
    }
   ],
   "source": [
    "print(\"Predicted Value:\", expected_value)\n",
    "print(\"Actual Value:\", y_test[0])"
   ]
  },
  {
   "cell_type": "markdown",
   "id": "9594fb9c",
   "metadata": {},
   "source": [
    "<h4>Comparison with KNeighborsRegressor</h4>"
   ]
  },
  {
   "cell_type": "code",
   "execution_count": 7,
   "id": "37b47a0c",
   "metadata": {},
   "outputs": [
    {
     "data": {
      "text/plain": [
       "array([-134.24082137])"
      ]
     },
     "execution_count": 7,
     "metadata": {},
     "output_type": "execute_result"
    }
   ],
   "source": [
    "knr = KNeighborsRegressor(n_neighbors = 5)\n",
    "knr.fit(X_train, y_train)\n",
    "knr.predict(X_test[[0]])"
   ]
  },
  {
   "cell_type": "code",
   "execution_count": null,
   "id": "37702bb6",
   "metadata": {},
   "outputs": [],
   "source": []
  }
 ],
 "metadata": {
  "kernelspec": {
   "display_name": "Python 3 (ipykernel)",
   "language": "python",
   "name": "python3"
  },
  "language_info": {
   "codemirror_mode": {
    "name": "ipython",
    "version": 3
   },
   "file_extension": ".py",
   "mimetype": "text/x-python",
   "name": "python",
   "nbconvert_exporter": "python",
   "pygments_lexer": "ipython3",
   "version": "3.10.7"
  }
 },
 "nbformat": 4,
 "nbformat_minor": 5
}
