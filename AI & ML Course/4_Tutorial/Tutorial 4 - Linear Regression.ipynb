{
 "cells": [
  {
   "cell_type": "markdown",
   "id": "e9780bec",
   "metadata": {},
   "source": [
    "**Importing all necessary modules**"
   ]
  },
  {
   "cell_type": "code",
   "execution_count": null,
   "id": "878acb62",
   "metadata": {},
   "outputs": [],
   "source": [
    "import numpy as np\n",
    "import pandas as pd\n",
    "import matplotlib.pyplot as plt\n",
    "\n",
    "from sklearn.datasets import make_regression\n",
    "from sklearn.linear_model import LinearRegression"
   ]
  },
  {
   "cell_type": "code",
   "execution_count": null,
   "id": "d2e5105b",
   "metadata": {},
   "outputs": [],
   "source": []
  },
  {
   "cell_type": "markdown",
   "id": "8d9d48d8",
   "metadata": {},
   "source": [
    "**Apply the code shown in the cell.**"
   ]
  },
  {
   "cell_type": "code",
   "execution_count": null,
   "id": "3fd2b29a",
   "metadata": {},
   "outputs": [],
   "source": [
    "data = make_regression(n_samples = 2000, n_features = 3, noise = 20, random_state = 42)\n",
    "feature, target = data\n",
    "\n",
    "df = pd.DataFrame(feature, columns = ['feature1', 'feature2', 'feature3'])\n",
    "df['target'] = target\n",
    "\n",
    "X = feature\n",
    "y = target.reshape(-1, 1)"
   ]
  },
  {
   "cell_type": "code",
   "execution_count": null,
   "id": "d66e0f47",
   "metadata": {},
   "outputs": [],
   "source": []
  },
  {
   "cell_type": "markdown",
   "id": "1baa82bb",
   "metadata": {},
   "source": [
    "**So you have randomly created dataset and you are also given the function of Batch Gradient Descent in the next cell. The function will return thetas in a matrix form that were obtained during the iterations. The last index of the matrix is the final thetas. Run the cell containing that function.**"
   ]
  },
  {
   "cell_type": "markdown",
   "id": "937f8bea",
   "metadata": {},
   "source": [
    "Run the following cell"
   ]
  },
  {
   "cell_type": "code",
   "execution_count": null,
   "id": "11596973",
   "metadata": {},
   "outputs": [],
   "source": [
    "def batch_gradient_descent(X, y, iterations = 1000, alpha = 0.01):    \n",
    "    X = X.copy()\n",
    "    \n",
    "    ## Adding a new column as one vector to produce intercept later\n",
    "    ones = np.ones((X.shape[0], 1))\n",
    "    X = np.concatenate((ones, X), axis = 1)\n",
    "    \n",
    "    ## Initializing random values of thetas\n",
    "    thetas = np.random.randn(X.shape[1], 1)\n",
    "    \n",
    "    ## Array to store trial thetas\n",
    "    trial_thetas = np.zeros((iterations, X.shape[1], 1))\n",
    "\n",
    "    ## The beginning of the procedure\n",
    "    for i in range(iterations):\n",
    "        \n",
    "        ## Making a prediction with current thetas\n",
    "        y_pred = X.dot(thetas) \n",
    "        \n",
    "        ## Computing the differences from actual target values\n",
    "        residuals = y_pred - y\n",
    "        \n",
    "        ## Computing gradients for each of 4 thetas\n",
    "        gradients = X.T.dot(residuals) / y.size\n",
    "        thetas = thetas - alpha * gradients\n",
    "        trial_thetas[i] = thetas\n",
    "    \n",
    "    print('The shape of new X:', X.shape)\n",
    "    print('The shape of y:', y.shape)\n",
    "    print('The shape of y_pred and residuals:', y_pred.shape)\n",
    "    print('The shape of gradients and thetas', thetas.shape)\n",
    "    \n",
    "    return trial_thetas"
   ]
  },
  {
   "cell_type": "code",
   "execution_count": null,
   "id": "f259692c",
   "metadata": {},
   "outputs": [],
   "source": []
  },
  {
   "cell_type": "markdown",
   "id": "f5197c30",
   "metadata": {},
   "source": [
    "**Get the final index and use it to make predictions on the feature data. No need to split the dataset for this task. Calculate RMSE values with the help of target data.**"
   ]
  },
  {
   "cell_type": "code",
   "execution_count": null,
   "id": "094bc6c0",
   "metadata": {},
   "outputs": [],
   "source": []
  },
  {
   "cell_type": "markdown",
   "id": "42048df6",
   "metadata": {},
   "source": [
    "**Use LinearRegression method to fit the data and compare your RMSE value with the previos one**"
   ]
  },
  {
   "cell_type": "code",
   "execution_count": null,
   "id": "86ffe9c4",
   "metadata": {},
   "outputs": [],
   "source": []
  },
  {
   "cell_type": "markdown",
   "id": "8d24c0ac",
   "metadata": {},
   "source": [
    "**Use the matrix of thetas to obtain RMSE values for each line of thetas. Plot a graph to observe how errors change with the number of iterations. You can use for loop.**"
   ]
  },
  {
   "cell_type": "code",
   "execution_count": null,
   "id": "573f5adf",
   "metadata": {},
   "outputs": [],
   "source": []
  },
  {
   "cell_type": "markdown",
   "id": "306fc3da",
   "metadata": {},
   "source": [
    "**Use indexes of 0, 100, 200, 300, 400 in thetas obtained from batch gradient descent function. They have 4 different theta values. You will need only the first two values out of each 4. For example, the first one will be called intercept while the other can be said as coefficient. Plot a scatter chart to visualize how theta values change. Exemplary image was uploaded.**"
   ]
  },
  {
   "attachments": {
    "coef_vs_intercept.png": {
     "image/png": "[encoded data removed]"
    }
   },
   "cell_type": "markdown",
   "id": "8fb65e70",
   "metadata": {},
   "source": [
    "![coef_vs_intercept.png](attachment:coef_vs_intercept.png)"
   ]
  },
  {
   "cell_type": "code",
   "execution_count": null,
   "id": "5002a160",
   "metadata": {},
   "outputs": [],
   "source": []
  },
  {
   "cell_type": "markdown",
   "id": "ecbea9e6",
   "metadata": {},
   "source": [
    "**By using the theta values at only 0, 200, and 400 indexes, try to visualize the line graphs that generalize the whole dataset.**"
   ]
  },
  {
   "cell_type": "markdown",
   "id": "40a87ad2",
   "metadata": {},
   "source": [
    "**Since we are interested in 2D visualizations, we will need only two columns - one feature and target. You should make a scatter plot first by using one feature and target, and later visualize linear graph in the corresponding theta values**"
   ]
  },
  {
   "cell_type": "code",
   "execution_count": null,
   "id": "f5b5d84a",
   "metadata": {},
   "outputs": [],
   "source": []
  },
  {
   "cell_type": "markdown",
   "id": "724731c1",
   "metadata": {},
   "source": [
    "_Optional Homework_ **: Use Batch Gradient Descent function again with extremely higher and lower values of alpha for a given number of iteration - 1000. Observe changes in RMSE values. You can plot a graph.**"
   ]
  },
  {
   "cell_type": "code",
   "execution_count": null,
   "id": "3ff6eb77",
   "metadata": {},
   "outputs": [],
   "source": []
  }
 ],
 "metadata": {
  "kernelspec": {
   "display_name": "Python 3 (ipykernel)",
   "language": "python",
   "name": "python3"
  },
  "language_info": {
   "codemirror_mode": {
    "name": "ipython",
    "version": 3
   },
   "file_extension": ".py",
   "mimetype": "text/x-python",
   "name": "python",
   "nbconvert_exporter": "python",
   "pygments_lexer": "ipython3",
   "version": "3.10.7"
  }
 },
 "nbformat": 4,
 "nbformat_minor": 5
}
