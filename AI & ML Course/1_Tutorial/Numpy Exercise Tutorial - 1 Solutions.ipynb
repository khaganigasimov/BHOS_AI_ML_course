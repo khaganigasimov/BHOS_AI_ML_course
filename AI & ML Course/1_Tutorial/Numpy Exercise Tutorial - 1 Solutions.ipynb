{
 "cells": [
  {
   "cell_type": "markdown",
   "id": "2dc6e2cf",
   "metadata": {},
   "source": [
    "<h1>NumPy</h1>"
   ]
  },
  {
   "cell_type": "markdown",
   "id": "1f8a8f24",
   "metadata": {},
   "source": [
    "Import NumPy library into your notebook"
   ]
  },
  {
   "cell_type": "code",
   "execution_count": 1,
   "id": "50ff372c",
   "metadata": {},
   "outputs": [],
   "source": [
    "import numpy as np"
   ]
  },
  {
   "cell_type": "code",
   "execution_count": null,
   "id": "f3b72cc7",
   "metadata": {},
   "outputs": [],
   "source": []
  },
  {
   "cell_type": "markdown",
   "id": "c0b361d9",
   "metadata": {},
   "source": [
    "Create a one-dimensional array with data type of np.int32"
   ]
  },
  {
   "cell_type": "code",
   "execution_count": 2,
   "id": "d1ea8d77",
   "metadata": {},
   "outputs": [
    {
     "data": {
      "text/plain": [
       "array([1, 2, 3, 4, 5])"
      ]
     },
     "execution_count": 2,
     "metadata": {},
     "output_type": "execute_result"
    }
   ],
   "source": [
    "arr = np.array([1,2,3,4,5], dtype = np.int32)\n",
    "arr"
   ]
  },
  {
   "cell_type": "code",
   "execution_count": 3,
   "id": "44b8c345",
   "metadata": {},
   "outputs": [
    {
     "data": {
      "text/plain": [
       "dtype('int32')"
      ]
     },
     "execution_count": 3,
     "metadata": {},
     "output_type": "execute_result"
    }
   ],
   "source": [
    "arr.dtype"
   ]
  },
  {
   "cell_type": "code",
   "execution_count": null,
   "id": "c972e7ba",
   "metadata": {},
   "outputs": [],
   "source": []
  },
  {
   "cell_type": "markdown",
   "id": "b48b3418",
   "metadata": {},
   "source": [
    "Get itemsize and size of the array"
   ]
  },
  {
   "cell_type": "code",
   "execution_count": 4,
   "id": "d9d29673",
   "metadata": {},
   "outputs": [
    {
     "name": "stdout",
     "output_type": "stream",
     "text": [
      "Array size:  5\n",
      "Array item size:  4\n"
     ]
    }
   ],
   "source": [
    "print(\"Array size: \", arr.size)\n",
    "print(\"Array item size: \", arr.itemsize)"
   ]
  },
  {
   "cell_type": "code",
   "execution_count": null,
   "id": "51e359e3",
   "metadata": {},
   "outputs": [],
   "source": []
  },
  {
   "cell_type": "markdown",
   "id": "3fc5eaac",
   "metadata": {},
   "source": [
    "Calculate the total memory captured by this array in units of bytes and compare result with the value of nbytes attribute"
   ]
  },
  {
   "cell_type": "code",
   "execution_count": 5,
   "id": "5e507acc",
   "metadata": {},
   "outputs": [
    {
     "name": "stdout",
     "output_type": "stream",
     "text": [
      "Calculated total size:  20 bytes\n"
     ]
    }
   ],
   "source": [
    "print(\"Calculated total size: \", arr.size * arr.itemsize, \"bytes\")"
   ]
  },
  {
   "cell_type": "code",
   "execution_count": 6,
   "id": "254e3797",
   "metadata": {},
   "outputs": [
    {
     "name": "stdout",
     "output_type": "stream",
     "text": [
      "Total size:  20 bytes\n"
     ]
    }
   ],
   "source": [
    "print(\"Total size: \", arr.nbytes, \"bytes\")"
   ]
  },
  {
   "cell_type": "code",
   "execution_count": null,
   "id": "a52babc7",
   "metadata": {},
   "outputs": [],
   "source": []
  },
  {
   "cell_type": "markdown",
   "id": "2ae47438",
   "metadata": {},
   "source": [
    "Change the data type to np.int16"
   ]
  },
  {
   "cell_type": "code",
   "execution_count": 7,
   "id": "96b559e6",
   "metadata": {},
   "outputs": [],
   "source": [
    "arr = arr.astype(np.int16)"
   ]
  },
  {
   "cell_type": "code",
   "execution_count": 8,
   "id": "ed18da45",
   "metadata": {},
   "outputs": [
    {
     "data": {
      "text/plain": [
       "dtype('int16')"
      ]
     },
     "execution_count": 8,
     "metadata": {},
     "output_type": "execute_result"
    }
   ],
   "source": [
    "arr.dtype"
   ]
  },
  {
   "cell_type": "code",
   "execution_count": null,
   "id": "709c22ac",
   "metadata": {},
   "outputs": [],
   "source": []
  },
  {
   "cell_type": "markdown",
   "id": "f29dab24",
   "metadata": {},
   "source": [
    "Get itemsize, size, and total memory again. Did you see any change? If so, why?"
   ]
  },
  {
   "cell_type": "code",
   "execution_count": 9,
   "id": "36779695",
   "metadata": {},
   "outputs": [
    {
     "name": "stdout",
     "output_type": "stream",
     "text": [
      "Array size:  5\n",
      "Array item size:  2\n",
      "Calculated total size:  10 bytes\n",
      "Total size:  10 bytes\n"
     ]
    }
   ],
   "source": [
    "print(\"Array size: \", arr.size)\n",
    "print(\"Array item size: \", arr.itemsize)\n",
    "print(\"Calculated total size: \", arr.size * arr.itemsize, \"bytes\")\n",
    "print(\"Total size: \", arr.nbytes, \"bytes\")"
   ]
  },
  {
   "cell_type": "code",
   "execution_count": 10,
   "id": "1668d6fd",
   "metadata": {},
   "outputs": [],
   "source": [
    "# Because we decreased the memory captured by a single item, total memory will decrease so."
   ]
  },
  {
   "cell_type": "code",
   "execution_count": null,
   "id": "e953ae6d",
   "metadata": {},
   "outputs": [],
   "source": []
  },
  {
   "cell_type": "markdown",
   "id": "2f4d3859",
   "metadata": {},
   "source": [
    "Create a two-dimensional array with optional shape"
   ]
  },
  {
   "cell_type": "code",
   "execution_count": 11,
   "id": "87d815b0",
   "metadata": {},
   "outputs": [
    {
     "name": "stdout",
     "output_type": "stream",
     "text": [
      "[[ 1  2  3  4  5]\n",
      " [ 6  7  8  9 10]]\n"
     ]
    }
   ],
   "source": [
    "arr = np.array([[1,2,3,4,5], [6,7,8,9,10]], dtype = np.int32)\n",
    "print(arr)"
   ]
  },
  {
   "cell_type": "code",
   "execution_count": null,
   "id": "cfc6949a",
   "metadata": {},
   "outputs": [],
   "source": []
  },
  {
   "cell_type": "markdown",
   "id": "9ab287a8",
   "metadata": {},
   "source": [
    "Get the shape of the array. "
   ]
  },
  {
   "cell_type": "code",
   "execution_count": 12,
   "id": "3bbf3dda",
   "metadata": {},
   "outputs": [
    {
     "data": {
      "text/plain": [
       "(2, 5)"
      ]
     },
     "execution_count": 12,
     "metadata": {},
     "output_type": "execute_result"
    }
   ],
   "source": [
    "arr.shape"
   ]
  },
  {
   "cell_type": "code",
   "execution_count": null,
   "id": "8d8ed908",
   "metadata": {},
   "outputs": [],
   "source": []
  },
  {
   "cell_type": "markdown",
   "id": "ed9e0721",
   "metadata": {},
   "source": [
    "Multiply each element of the shape manually and compare the result with the value of size attribute"
   ]
  },
  {
   "cell_type": "code",
   "execution_count": 13,
   "id": "b5707630",
   "metadata": {},
   "outputs": [
    {
     "data": {
      "text/plain": [
       "10"
      ]
     },
     "execution_count": 13,
     "metadata": {},
     "output_type": "execute_result"
    }
   ],
   "source": [
    "2 * 5"
   ]
  },
  {
   "cell_type": "code",
   "execution_count": 14,
   "id": "12aaf0a3",
   "metadata": {},
   "outputs": [
    {
     "data": {
      "text/plain": [
       "10"
      ]
     },
     "execution_count": 14,
     "metadata": {},
     "output_type": "execute_result"
    }
   ],
   "source": [
    "arr.size"
   ]
  },
  {
   "cell_type": "code",
   "execution_count": null,
   "id": "c17ac85d",
   "metadata": {},
   "outputs": [],
   "source": []
  },
  {
   "cell_type": "markdown",
   "id": "4c19eaf1",
   "metadata": {},
   "source": [
    "Create the following array and do indexing to get the value of 9"
   ]
  },
  {
   "attachments": {
    "two%20dimensional%20array.png": {
     "image/png": "[encoded data removed]"
    }
   },
   "cell_type": "markdown",
   "id": "610516d0",
   "metadata": {},
   "source": [
    "![two%20dimensional%20array.png](attachment:two%20dimensional%20array.png)"
   ]
  },
  {
   "cell_type": "code",
   "execution_count": 15,
   "id": "bedc92b1",
   "metadata": {},
   "outputs": [
    {
     "data": {
      "text/plain": [
       "9"
      ]
     },
     "execution_count": 15,
     "metadata": {},
     "output_type": "execute_result"
    }
   ],
   "source": [
    "arr = np.array([[4,1,6,5], [2,9,3,8]], dtype = np.int32)\n",
    "\n",
    "arr[1,1]"
   ]
  },
  {
   "cell_type": "code",
   "execution_count": null,
   "id": "3777cb8a",
   "metadata": {},
   "outputs": [],
   "source": []
  },
  {
   "cell_type": "markdown",
   "id": "568e0706",
   "metadata": {},
   "source": [
    "Use slicing to get the following:"
   ]
  },
  {
   "attachments": {
    "sliced%20array2.png": {
     "image/png": "[encoded data removed]"
    }
   },
   "cell_type": "markdown",
   "id": "2b9fd8b6",
   "metadata": {},
   "source": [
    "![sliced%20array2.png](attachment:sliced%20array2.png)"
   ]
  },
  {
   "cell_type": "code",
   "execution_count": 16,
   "id": "f7a2249d",
   "metadata": {},
   "outputs": [
    {
     "data": {
      "text/plain": [
       "array([9, 3])"
      ]
     },
     "execution_count": 16,
     "metadata": {},
     "output_type": "execute_result"
    }
   ],
   "source": [
    "arr[1,1:3]"
   ]
  },
  {
   "cell_type": "code",
   "execution_count": null,
   "id": "fe1ab6a3",
   "metadata": {},
   "outputs": [],
   "source": []
  },
  {
   "cell_type": "markdown",
   "id": "67de0e93",
   "metadata": {},
   "source": [
    "Change the order of first row reversely.\n",
    "You should obtain the following:"
   ]
  },
  {
   "attachments": {
    "reversed_array-2.png": {
     "image/png": "[encoded data removed]"
    }
   },
   "cell_type": "markdown",
   "id": "cadf2d41",
   "metadata": {},
   "source": [
    "![reversed_array-2.png](attachment:reversed_array-2.png)"
   ]
  },
  {
   "cell_type": "code",
   "execution_count": 17,
   "id": "95090a41",
   "metadata": {},
   "outputs": [
    {
     "data": {
      "text/plain": [
       "array([[5, 6, 1, 4],\n",
       "       [2, 9, 3, 8]])"
      ]
     },
     "execution_count": 17,
     "metadata": {},
     "output_type": "execute_result"
    }
   ],
   "source": [
    "arr[0] = arr[0,::-1]\n",
    "arr"
   ]
  },
  {
   "cell_type": "code",
   "execution_count": null,
   "id": "5998e814",
   "metadata": {},
   "outputs": [],
   "source": []
  },
  {
   "cell_type": "markdown",
   "id": "25130e64",
   "metadata": {},
   "source": [
    "Replace the places of the second column and third column. You should get the following:"
   ]
  },
  {
   "attachments": {
    "replaced%20one%20dimensional%20array.png": {
     "image/png": "[encoded data removed]"
    }
   },
   "cell_type": "markdown",
   "id": "5e42bf93",
   "metadata": {},
   "source": [
    "![replaced%20one%20dimensional%20array.png](attachment:replaced%20one%20dimensional%20array.png)"
   ]
  },
  {
   "cell_type": "code",
   "execution_count": 18,
   "id": "e0c737d2",
   "metadata": {},
   "outputs": [
    {
     "data": {
      "text/plain": [
       "array([[5, 1, 6, 4],\n",
       "       [2, 3, 9, 8]])"
      ]
     },
     "execution_count": 18,
     "metadata": {},
     "output_type": "execute_result"
    }
   ],
   "source": [
    "arr[:,[1,2]] = arr[:,[2,1]]\n",
    "arr"
   ]
  },
  {
   "cell_type": "code",
   "execution_count": null,
   "id": "faec8bb1",
   "metadata": {},
   "outputs": [],
   "source": []
  },
  {
   "cell_type": "markdown",
   "id": "e35517b1",
   "metadata": {},
   "source": [
    "Apply the following code in your own notebook"
   ]
  },
  {
   "attachments": {
    "random%20array%20code.png": {
     "image/png": "[encoded data removed]"
    }
   },
   "cell_type": "markdown",
   "id": "c2498efa",
   "metadata": {},
   "source": [
    "![random%20array%20code.png](attachment:random%20array%20code.png)"
   ]
  },
  {
   "cell_type": "code",
   "execution_count": 19,
   "id": "34998f8d",
   "metadata": {},
   "outputs": [
    {
     "name": "stdout",
     "output_type": "stream",
     "text": [
      "[[ 7 15 11  8  7]\n",
      " [19 11 11  4  8]\n",
      " [ 3  2 12  6  2]\n",
      " [ 1 12 12 17 10]\n",
      " [16 15 15 19 12]]\n"
     ]
    }
   ],
   "source": [
    "np.random.seed(42)\n",
    "arr = np.random.randint(1, 20, size = (5,5))\n",
    "print(arr)"
   ]
  },
  {
   "cell_type": "code",
   "execution_count": null,
   "id": "8c07b101",
   "metadata": {},
   "outputs": [],
   "source": []
  },
  {
   "cell_type": "markdown",
   "id": "d8e3fe68",
   "metadata": {},
   "source": [
    "Your task is to choose first, third, forth columns with first three rows from arr and get the following:"
   ]
  },
  {
   "attachments": {
    "sliced%20array-2.png": {
     "image/png": "[encoded data removed]"
    }
   },
   "cell_type": "markdown",
   "id": "f540c1bb",
   "metadata": {},
   "source": [
    "![sliced%20array-2.png](attachment:sliced%20array-2.png)"
   ]
  },
  {
   "cell_type": "code",
   "execution_count": 20,
   "id": "691dbb9b",
   "metadata": {},
   "outputs": [
    {
     "data": {
      "text/plain": [
       "array([[ 7, 11,  8],\n",
       "       [19, 11,  4],\n",
       "       [ 3, 12,  6]])"
      ]
     },
     "execution_count": 20,
     "metadata": {},
     "output_type": "execute_result"
    }
   ],
   "source": [
    "new_arr = arr[:3,[0,2,3]]\n",
    "new_arr"
   ]
  },
  {
   "cell_type": "code",
   "execution_count": null,
   "id": "6346eee9",
   "metadata": {},
   "outputs": [],
   "source": []
  },
  {
   "cell_type": "markdown",
   "id": "da92b763",
   "metadata": {},
   "source": [
    "Replace places of first and third rows in the previous two-dimensional subarray:"
   ]
  },
  {
   "attachments": {
    "subarray.png": {
     "image/png": "[encoded data removed]"
    }
   },
   "cell_type": "markdown",
   "id": "0a5a46ef",
   "metadata": {},
   "source": [
    "![subarray.png](attachment:subarray.png)"
   ]
  },
  {
   "cell_type": "code",
   "execution_count": 21,
   "id": "59f11a9e",
   "metadata": {
    "scrolled": true
   },
   "outputs": [
    {
     "data": {
      "text/plain": [
       "array([[ 3, 12,  6],\n",
       "       [19, 11,  4],\n",
       "       [ 7, 11,  8]])"
      ]
     },
     "execution_count": 21,
     "metadata": {},
     "output_type": "execute_result"
    }
   ],
   "source": [
    "new_arr[[0,2], :] = new_arr[[2,0], :]\n",
    "new_arr"
   ]
  },
  {
   "cell_type": "code",
   "execution_count": null,
   "id": "76fbef09",
   "metadata": {},
   "outputs": [],
   "source": []
  },
  {
   "cell_type": "markdown",
   "id": "31a2bd81",
   "metadata": {},
   "source": [
    "Replace places of first and third columns in the previous two-dimensional subarray:"
   ]
  },
  {
   "attachments": {
    "subarray2.png": {
     "image/png": "[encoded data removed]"
    }
   },
   "cell_type": "markdown",
   "id": "b1afca31",
   "metadata": {},
   "source": [
    "![subarray2.png](attachment:subarray2.png)"
   ]
  },
  {
   "cell_type": "code",
   "execution_count": 22,
   "id": "00ba2608",
   "metadata": {},
   "outputs": [
    {
     "data": {
      "text/plain": [
       "array([[ 6, 12,  3],\n",
       "       [ 4, 11, 19],\n",
       "       [ 8, 11,  7]])"
      ]
     },
     "execution_count": 22,
     "metadata": {},
     "output_type": "execute_result"
    }
   ],
   "source": [
    "new_arr[:, [0,2]] = new_arr[:, [2,0]]\n",
    "new_arr"
   ]
  },
  {
   "cell_type": "markdown",
   "id": "392b62d0",
   "metadata": {},
   "source": [
    "Obtain the diagonal of the matrix just by using slicing. Hint: You can reshape to 1D array. If you have another better solution with slicing, let us know!"
   ]
  },
  {
   "cell_type": "code",
   "execution_count": 23,
   "id": "7122c362",
   "metadata": {
    "scrolled": true
   },
   "outputs": [
    {
     "data": {
      "text/plain": [
       "array([ 6, 11,  7])"
      ]
     },
     "execution_count": 23,
     "metadata": {},
     "output_type": "execute_result"
    }
   ],
   "source": [
    "new_arr = new_arr.reshape(-1)\n",
    "new_arr[::4]"
   ]
  },
  {
   "cell_type": "code",
   "execution_count": null,
   "id": "c9b07b2b",
   "metadata": {},
   "outputs": [],
   "source": []
  },
  {
   "cell_type": "markdown",
   "id": "2b32f76d",
   "metadata": {},
   "source": [
    "Create a 2-dimensional NumPy array with dimensions 3x3, filled with zeros."
   ]
  },
  {
   "cell_type": "code",
   "execution_count": 24,
   "id": "5d284859",
   "metadata": {
    "scrolled": true
   },
   "outputs": [
    {
     "name": "stdout",
     "output_type": "stream",
     "text": [
      "[[0. 0. 0.]\n",
      " [0. 0. 0.]\n",
      " [0. 0. 0.]]\n"
     ]
    }
   ],
   "source": [
    "arr = np.zeros((3, 3))\n",
    "print(arr)"
   ]
  },
  {
   "cell_type": "code",
   "execution_count": null,
   "id": "b83d43f6",
   "metadata": {},
   "outputs": [],
   "source": []
  },
  {
   "cell_type": "markdown",
   "id": "dc025706",
   "metadata": {},
   "source": [
    "Get the following array in NumPy. Hint: use zero matrix and replace proper indices with 1"
   ]
  },
  {
   "attachments": {
    "chessboard.png": {
     "image/png": "[encoded data removed]"
    }
   },
   "cell_type": "markdown",
   "id": "8e977c87",
   "metadata": {},
   "source": [
    "![chessboard.png](attachment:chessboard.png)"
   ]
  },
  {
   "cell_type": "code",
   "execution_count": 25,
   "id": "b6f11933",
   "metadata": {},
   "outputs": [
    {
     "name": "stdout",
     "output_type": "stream",
     "text": [
      "[[1 0 1 0 1 0 1 0]\n",
      " [0 1 0 1 0 1 0 1]\n",
      " [1 0 1 0 1 0 1 0]\n",
      " [0 1 0 1 0 1 0 1]\n",
      " [1 0 1 0 1 0 1 0]\n",
      " [0 1 0 1 0 1 0 1]\n",
      " [1 0 1 0 1 0 1 0]\n",
      " [0 1 0 1 0 1 0 1]]\n"
     ]
    }
   ],
   "source": [
    "chessboard = np.zeros((8, 8), dtype = np.int32)\n",
    "chessboard[::2, ::2] = 1\n",
    "chessboard[1::2, 1::2] = 1\n",
    "print(chessboard)"
   ]
  },
  {
   "cell_type": "code",
   "execution_count": null,
   "id": "6b032407",
   "metadata": {},
   "outputs": [],
   "source": []
  },
  {
   "cell_type": "markdown",
   "id": "53ea36e8",
   "metadata": {},
   "source": [
    "Use NumPy slicing to extract a 2x2 sub-array from a 4x4 NumPy array. \n"
   ]
  },
  {
   "cell_type": "code",
   "execution_count": 26,
   "id": "4292566b",
   "metadata": {},
   "outputs": [
    {
     "name": "stdout",
     "output_type": "stream",
     "text": [
      "[[ 6  7]\n",
      " [10 11]]\n"
     ]
    }
   ],
   "source": [
    "import numpy as np\n",
    "\n",
    "array = np.array([[1, 2, 3, 4], [5, 6, 7, 8], [9, 10, 11, 12], [13, 14, 15, 16]])\n",
    "sub_array = array[1:3, 1:3]\n",
    "print(sub_array)\n",
    "\n",
    "# It doesn't matter which subarray you choose. Just make sure if the shape matches."
   ]
  },
  {
   "cell_type": "code",
   "execution_count": null,
   "id": "a2e505bd",
   "metadata": {},
   "outputs": [],
   "source": []
  },
  {
   "cell_type": "markdown",
   "id": "87b51492",
   "metadata": {},
   "source": [
    "Create two NumPy arrays a and b, each with dimensions 2x3, filled with random integers between 0 and 9. Use NumPy's concatenate() function to concatenate the two arrays vertically."
   ]
  },
  {
   "cell_type": "code",
   "execution_count": 27,
   "id": "f11a2b77",
   "metadata": {},
   "outputs": [
    {
     "name": "stdout",
     "output_type": "stream",
     "text": [
      "Array a:\n",
      "[[6 3 8]\n",
      " [2 4 2]]\n",
      "\n",
      "Array b:\n",
      "[[6 4 8]\n",
      " [6 1 3]]\n",
      "\n",
      "Result after vertical concatenation:\n",
      "[[6 3 8]\n",
      " [2 4 2]\n",
      " [6 4 8]\n",
      " [6 1 3]]\n"
     ]
    }
   ],
   "source": [
    "import numpy as np\n",
    "\n",
    "# Create two arrays with dimensions 2x3 filled with random integers between 0 and 9\n",
    "a = np.random.randint(0, 10, size=(2, 3))\n",
    "b = np.random.randint(0, 10, size=(2, 3))\n",
    "\n",
    "# Use concatenate() function to concatenate the two arrays vertically\n",
    "result = np.concatenate((a, b), axis=0)\n",
    "\n",
    "print(\"Array a:\")\n",
    "print(a)\n",
    "print(\"\\nArray b:\")\n",
    "print(b)\n",
    "print(\"\\nResult after vertical concatenation:\")\n",
    "print(result)\n"
   ]
  },
  {
   "cell_type": "code",
   "execution_count": null,
   "id": "ea1a56ab",
   "metadata": {},
   "outputs": [],
   "source": []
  },
  {
   "cell_type": "markdown",
   "id": "2c31f76f",
   "metadata": {},
   "source": [
    "Create a 2-dimensional NumPy array with dimensions 4x4, filled with random integers between 0 and 9. <br>Calculate the mean, standard deviation, and variance of the array using NumPy's built-in functions."
   ]
  },
  {
   "cell_type": "markdown",
   "id": "de1d739a",
   "metadata": {},
   "source": [
    "<h3>Hint:</h3>\n",
    "\n",
    "You can use the random.randint() function to create the random array, and the mean(), std(), and var() functions to calculate the mean, standard deviation, and variance, respectively."
   ]
  },
  {
   "cell_type": "code",
   "execution_count": 28,
   "id": "6b26c6e5",
   "metadata": {},
   "outputs": [
    {
     "name": "stdout",
     "output_type": "stream",
     "text": [
      "Array:\n",
      "[[8 1 9 8]\n",
      " [9 4 1 3]\n",
      " [6 7 2 0]\n",
      " [3 1 7 3]]\n",
      "Mean: 4.5\n",
      "Standard deviation: 3.0618621784789726\n",
      "Variance: 9.375\n"
     ]
    }
   ],
   "source": [
    "import numpy as np\n",
    "\n",
    "# Create a 2-dimensional array with dimensions 4x4 filled with random integers between 0 and 9\n",
    "arr = np.random.randint(0, 10, size=(4, 4))\n",
    "\n",
    "# Calculate the mean, standard deviation, and variance\n",
    "mean = np.mean(arr)\n",
    "std_dev = np.std(arr)\n",
    "variance = np.var(arr)\n",
    "\n",
    "# Print the original array and the calculated statistics\n",
    "print(\"Array:\")\n",
    "print(arr)\n",
    "print(\"Mean:\", mean)\n",
    "print(\"Standard deviation:\", std_dev)\n",
    "print(\"Variance:\", variance)\n"
   ]
  },
  {
   "cell_type": "code",
   "execution_count": null,
   "id": "2e58ecdb",
   "metadata": {},
   "outputs": [],
   "source": []
  },
  {
   "cell_type": "markdown",
   "id": "b4477152",
   "metadata": {},
   "source": [
    "<h1>Least Square Method</h1>"
   ]
  },
  {
   "cell_type": "markdown",
   "id": "5600f016",
   "metadata": {},
   "source": [
    "So, you will be given non-real dataset and your task is to: "
   ]
  },
  {
   "cell_type": "markdown",
   "id": "1bc0a8f1",
   "metadata": {},
   "source": [
    "a) Read csv file with Pandas"
   ]
  },
  {
   "cell_type": "code",
   "execution_count": 29,
   "id": "dbfdd752",
   "metadata": {},
   "outputs": [],
   "source": [
    "import pandas as pd\n",
    "df = pd.read_csv('../data/data.csv')"
   ]
  },
  {
   "cell_type": "markdown",
   "id": "98dfcf66",
   "metadata": {},
   "source": [
    "b) Convert it to numpy array"
   ]
  },
  {
   "cell_type": "code",
   "execution_count": 30,
   "id": "05d634d0",
   "metadata": {},
   "outputs": [],
   "source": [
    "# You can also simply type \"df.values\". Check this one out as well!\n",
    "\n",
    "arr = df.to_numpy()"
   ]
  },
  {
   "cell_type": "markdown",
   "id": "b20965ec",
   "metadata": {},
   "source": [
    "c) Extract each column as separate variables, say \"feature\" and \"target\". Reshape them to (100, 1) so that they have 2 dimensions"
   ]
  },
  {
   "cell_type": "code",
   "execution_count": 31,
   "id": "6053c4b9",
   "metadata": {},
   "outputs": [
    {
     "name": "stdout",
     "output_type": "stream",
     "text": [
      "(100, 1)\n",
      "(100, 1)\n"
     ]
    }
   ],
   "source": [
    "feature, target = arr[:, 0], arr[:, 1]\n",
    "\n",
    "feature = feature.reshape(100, 1)\n",
    "target = target.reshape(100, 1)\n",
    "print(feature.shape, target.shape, sep = '\\n')"
   ]
  },
  {
   "cell_type": "code",
   "execution_count": 32,
   "id": "1635704c",
   "metadata": {},
   "outputs": [],
   "source": [
    "# # There is another better way without using reshape function.\n",
    "# feature, target = arr[:, [0]], arr[:, [1]]\n",
    "# print(feature.shape, target.shape, sep = '\\n')\n",
    "# # Check this one out as well!"
   ]
  },
  {
   "cell_type": "markdown",
   "id": "a46a3a49",
   "metadata": {},
   "source": [
    "d) Use numpy.linalg.lstsq method to estimate coefficient of relationship between feature and target data. The method will return 4 different outputs representing coefficient, residuals, rank, and singular values, respectively. You will need the first one"
   ]
  },
  {
   "cell_type": "code",
   "execution_count": 33,
   "id": "ab5c5fe7",
   "metadata": {},
   "outputs": [],
   "source": [
    "## Note: It is important to realize that the method always expects a 2-D array for only feature. \n",
    "##       That was the reason why we needed to reshape to (100, 1)\n",
    "##       However, target array can be 1-D though.\n",
    "\n",
    "coefficient, residuals, rank, singular = np.linalg.lstsq(feature, target, rcond = None)"
   ]
  },
  {
   "cell_type": "markdown",
   "id": "22debf2e",
   "metadata": {},
   "source": [
    "e) Use the below formula to make some predictions"
   ]
  },
  {
   "attachments": {
    "formula.png": {
     "image/png": "[encoded data removed]"
    }
   },
   "cell_type": "markdown",
   "id": "681ffb85",
   "metadata": {},
   "source": [
    "![formula.png](attachment:formula.png)"
   ]
  },
  {
   "cell_type": "code",
   "execution_count": 34,
   "id": "578eefbc",
   "metadata": {},
   "outputs": [
    {
     "data": {
      "text/plain": [
       "(100, 1)"
      ]
     },
     "execution_count": 34,
     "metadata": {},
     "output_type": "execute_result"
    }
   ],
   "source": [
    "prediction = feature * coefficient\n",
    "prediction.shape"
   ]
  },
  {
   "cell_type": "markdown",
   "id": "9d85775b",
   "metadata": {},
   "source": [
    "f) Now, you need to evaluate your results with the coefficient of determination method - R^2. Follow the steps shown in the Picture"
   ]
  },
  {
   "attachments": {
    "r2%20score.png": {
     "image/png": "[encoded data removed]"
    }
   },
   "cell_type": "markdown",
   "id": "2ed12f27",
   "metadata": {},
   "source": [
    "![r2%20score.png](attachment:r2%20score.png)"
   ]
  },
  {
   "cell_type": "markdown",
   "id": "0e5ba8e7",
   "metadata": {},
   "source": [
    "PS: If you don't have sklearn library, simply type \"pip install sklearn\" in one of the emtpy cells in your notebook. In case you have problem, you can skip this part"
   ]
  },
  {
   "cell_type": "code",
   "execution_count": 35,
   "id": "ac3c24a7",
   "metadata": {},
   "outputs": [
    {
     "data": {
      "text/plain": [
       "1.0"
      ]
     },
     "execution_count": 35,
     "metadata": {},
     "output_type": "execute_result"
    }
   ],
   "source": [
    "from sklearn.metrics import r2_score\n",
    "r2_score(target, prediction)"
   ]
  },
  {
   "cell_type": "markdown",
   "id": "b13138b9",
   "metadata": {},
   "source": [
    "g) Try to write the following code yourself and compare the results with second output of numpy.linalg.lstsq. (PS: If you named different variable names, just write correspondingly)"
   ]
  },
  {
   "attachments": {
    "residuals.png": {
     "image/png": "[encoded data removed]"
    }
   },
   "cell_type": "markdown",
   "id": "6fbae256",
   "metadata": {},
   "source": [
    "![residuals.png](attachment:residuals.png)"
   ]
  },
  {
   "cell_type": "code",
   "execution_count": 36,
   "id": "e9f6f62b",
   "metadata": {},
   "outputs": [
    {
     "name": "stdout",
     "output_type": "stream",
     "text": [
      "Calculated residuals from scratch: 7.267801741789267e-14\n",
      "Actual residuals: 7.267801869492718e-14\n"
     ]
    }
   ],
   "source": [
    "## This exercise was aimed to show the method behind computation of residuals \n",
    "\n",
    "print(\"Calculated residuals from scratch:\", np.sum((prediction - target) ** 2))\n",
    "print(\"Actual residuals:\", residuals[0])"
   ]
  }
 ],
 "metadata": {
  "kernelspec": {
   "display_name": "Python 3 (ipykernel)",
   "language": "python",
   "name": "python3"
  },
  "language_info": {
   "codemirror_mode": {
    "name": "ipython",
    "version": 3
   },
   "file_extension": ".py",
   "mimetype": "text/x-python",
   "name": "python",
   "nbconvert_exporter": "python",
   "pygments_lexer": "ipython3",
   "version": "3.10.7"
  }
 },
 "nbformat": 4,
 "nbformat_minor": 5
}
