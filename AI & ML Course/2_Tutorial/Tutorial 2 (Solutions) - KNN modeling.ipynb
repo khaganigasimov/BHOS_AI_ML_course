{
 "cells": [
  {
   "cell_type": "markdown",
   "id": "d3cd1ba2",
   "metadata": {},
   "source": [
    "Import all necessary libraries - numpy, pandas, matplotlib.pyplot, train_test_split, KNeighborsClassifier, LabelEncoder"
   ]
  },
  {
   "cell_type": "code",
   "execution_count": 1,
   "id": "3efa4891",
   "metadata": {},
   "outputs": [],
   "source": [
    "import numpy as np\n",
    "import pandas as pd\n",
    "import matplotlib.pyplot as plt\n",
    "from sklearn.model_selection import train_test_split\n",
    "from sklearn.neighbors import KNeighborsClassifier\n",
    "from sklearn.preprocessing import LabelEncoder\n",
    "from sklearn.metrics import accuracy_score"
   ]
  },
  {
   "cell_type": "markdown",
   "id": "844c88a3",
   "metadata": {},
   "source": [
    "So, you're given dataset of diabet evaluations. Your task is to"
   ]
  },
  {
   "cell_type": "markdown",
   "id": "c63fb034",
   "metadata": {},
   "source": [
    "a) Use the columns of Glucose and BMI as features and of Outcome as target"
   ]
  },
  {
   "cell_type": "markdown",
   "id": "a67cfce4",
   "metadata": {},
   "source": [
    "b) Convert string values to numerical types in target column. (Remember, your model can only work with numerical data)"
   ]
  },
  {
   "cell_type": "markdown",
   "id": "59fb3acf",
   "metadata": {},
   "source": [
    "c) Divide feature and target dataset into train and test parts"
   ]
  },
  {
   "cell_type": "markdown",
   "id": "cb0a265e",
   "metadata": {},
   "source": [
    "d) Train the new model and find the optimal K values based on performance"
   ]
  },
  {
   "cell_type": "markdown",
   "id": "f50f6b84",
   "metadata": {},
   "source": [
    "e) Plot the graph of test accuracy scores versus K values"
   ]
  },
  {
   "cell_type": "markdown",
   "id": "19c3987d",
   "metadata": {},
   "source": [
    "Note: You might have accuracy within 70-80%. Put your comments for further improvements "
   ]
  },
  {
   "cell_type": "code",
   "execution_count": 2,
   "id": "bc284119",
   "metadata": {},
   "outputs": [
    {
     "data": {
      "text/html": [
       "<div>\n",
       "<style scoped>\n",
       "    .dataframe tbody tr th:only-of-type {\n",
       "        vertical-align: middle;\n",
       "    }\n",
       "\n",
       "    .dataframe tbody tr th {\n",
       "        vertical-align: top;\n",
       "    }\n",
       "\n",
       "    .dataframe thead th {\n",
       "        text-align: right;\n",
       "    }\n",
       "</style>\n",
       "<table border=\"1\" class=\"dataframe\">\n",
       "  <thead>\n",
       "    <tr style=\"text-align: right;\">\n",
       "      <th></th>\n",
       "      <th>Pregnancies</th>\n",
       "      <th>Glucose</th>\n",
       "      <th>BloodPressure</th>\n",
       "      <th>SkinThickness</th>\n",
       "      <th>Insulin</th>\n",
       "      <th>BMI</th>\n",
       "      <th>DiabetesPedigreeFunction</th>\n",
       "      <th>Age</th>\n",
       "      <th>Outcome</th>\n",
       "    </tr>\n",
       "  </thead>\n",
       "  <tbody>\n",
       "    <tr>\n",
       "      <th>0</th>\n",
       "      <td>6</td>\n",
       "      <td>148.0</td>\n",
       "      <td>72</td>\n",
       "      <td>35</td>\n",
       "      <td>0</td>\n",
       "      <td>33.6</td>\n",
       "      <td>0.627</td>\n",
       "      <td>50</td>\n",
       "      <td>Positive</td>\n",
       "    </tr>\n",
       "    <tr>\n",
       "      <th>1</th>\n",
       "      <td>1</td>\n",
       "      <td>85.0</td>\n",
       "      <td>66</td>\n",
       "      <td>29</td>\n",
       "      <td>0</td>\n",
       "      <td>26.6</td>\n",
       "      <td>0.351</td>\n",
       "      <td>31</td>\n",
       "      <td>Negative</td>\n",
       "    </tr>\n",
       "    <tr>\n",
       "      <th>2</th>\n",
       "      <td>8</td>\n",
       "      <td>183.0</td>\n",
       "      <td>64</td>\n",
       "      <td>0</td>\n",
       "      <td>0</td>\n",
       "      <td>23.3</td>\n",
       "      <td>0.672</td>\n",
       "      <td>32</td>\n",
       "      <td>Positive</td>\n",
       "    </tr>\n",
       "    <tr>\n",
       "      <th>3</th>\n",
       "      <td>1</td>\n",
       "      <td>89.0</td>\n",
       "      <td>66</td>\n",
       "      <td>23</td>\n",
       "      <td>94</td>\n",
       "      <td>28.1</td>\n",
       "      <td>0.167</td>\n",
       "      <td>21</td>\n",
       "      <td>Negative</td>\n",
       "    </tr>\n",
       "    <tr>\n",
       "      <th>4</th>\n",
       "      <td>0</td>\n",
       "      <td>137.0</td>\n",
       "      <td>40</td>\n",
       "      <td>35</td>\n",
       "      <td>168</td>\n",
       "      <td>43.1</td>\n",
       "      <td>2.288</td>\n",
       "      <td>33</td>\n",
       "      <td>Positive</td>\n",
       "    </tr>\n",
       "  </tbody>\n",
       "</table>\n",
       "</div>"
      ],
      "text/plain": [
       "   Pregnancies  Glucose  BloodPressure  SkinThickness  Insulin   BMI   \n",
       "0            6    148.0             72             35        0  33.6  \\\n",
       "1            1     85.0             66             29        0  26.6   \n",
       "2            8    183.0             64              0        0  23.3   \n",
       "3            1     89.0             66             23       94  28.1   \n",
       "4            0    137.0             40             35      168  43.1   \n",
       "\n",
       "   DiabetesPedigreeFunction  Age   Outcome  \n",
       "0                     0.627   50  Positive  \n",
       "1                     0.351   31  Negative  \n",
       "2                     0.672   32  Positive  \n",
       "3                     0.167   21  Negative  \n",
       "4                     2.288   33  Positive  "
      ]
     },
     "execution_count": 2,
     "metadata": {},
     "output_type": "execute_result"
    }
   ],
   "source": [
    "df = pd.read_csv('../data/diabetes.csv')\n",
    "df.head()"
   ]
  },
  {
   "cell_type": "code",
   "execution_count": 3,
   "id": "13007819",
   "metadata": {},
   "outputs": [],
   "source": [
    "train, target = df[['Glucose', 'BMI']], df['Outcome']"
   ]
  },
  {
   "cell_type": "code",
   "execution_count": 4,
   "id": "2046764b",
   "metadata": {},
   "outputs": [],
   "source": [
    "le = LabelEncoder()\n",
    "target = le.fit_transform(target)"
   ]
  },
  {
   "cell_type": "code",
   "execution_count": 5,
   "id": "d35637e0",
   "metadata": {},
   "outputs": [],
   "source": [
    "X_train, X_test, y_train, y_test = train_test_split(train, target)"
   ]
  },
  {
   "cell_type": "code",
   "execution_count": 6,
   "id": "0861ba88",
   "metadata": {},
   "outputs": [],
   "source": [
    "scores = []\n",
    "for k in range(3, 28, 4):\n",
    "    knc = KNeighborsClassifier(k)\n",
    "    knc.fit(X_train, y_train)\n",
    "    test_score = knc.score(X_test, y_test)\n",
    "    scores.append(test_score)"
   ]
  },
  {
   "cell_type": "code",
   "execution_count": 7,
   "id": "513d8ef3",
   "metadata": {},
   "outputs": [
    {
     "data": {
      "image/png": "[encoded data removed]",
      "text/plain": [
       "<Figure size 640x480 with 1 Axes>"
      ]
     },
     "metadata": {},
     "output_type": "display_data"
    }
   ],
   "source": [
    "fig, ax = plt.subplots()\n",
    "ax.plot(list(range(2, 27, 4)), scores)\n",
    "ax.set_title('Test Score versus Number of Neighbors')\n",
    "ax.set_xlabel('Number of Neighbors')\n",
    "ax.set_ylabel('Test Score')\n",
    "plt.show()"
   ]
  },
  {
   "cell_type": "code",
   "execution_count": null,
   "id": "a6ceb3e4",
   "metadata": {},
   "outputs": [],
   "source": []
  }
 ],
 "metadata": {
  "kernelspec": {
   "display_name": "Python 3 (ipykernel)",
   "language": "python",
   "name": "python3"
  },
  "language_info": {
   "codemirror_mode": {
    "name": "ipython",
    "version": 3
   },
   "file_extension": ".py",
   "mimetype": "text/x-python",
   "name": "python",
   "nbconvert_exporter": "python",
   "pygments_lexer": "ipython3",
   "version": "3.10.7"
  }
 },
 "nbformat": 4,
 "nbformat_minor": 5
}
