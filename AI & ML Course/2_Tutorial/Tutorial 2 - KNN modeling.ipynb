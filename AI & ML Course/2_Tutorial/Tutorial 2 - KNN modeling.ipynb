{
 "cells": [
  {
   "cell_type": "markdown",
   "id": "ec045288",
   "metadata": {},
   "source": [
    "Import all necessary libraries - numpy, pandas, matplotlib.pyplot, train_test_split, KNeighborsClassifier, LabelEncoder"
   ]
  },
  {
   "cell_type": "code",
   "execution_count": 1,
   "id": "de735cbd",
   "metadata": {},
   "outputs": [],
   "source": []
  },
  {
   "cell_type": "markdown",
   "id": "ce989aa9",
   "metadata": {},
   "source": [
    "So, you're given dataset of diabet evaluations. Your task is to"
   ]
  },
  {
   "cell_type": "markdown",
   "id": "c28c5c68",
   "metadata": {},
   "source": [
    "a) Use the columns of Glucose and BMI as features and of Outcome as target"
   ]
  },
  {
   "cell_type": "markdown",
   "id": "a2ad2339",
   "metadata": {},
   "source": [
    "b) Convert string values to numerical types in target column. (Remember, your model can only work with numerical data)"
   ]
  },
  {
   "cell_type": "markdown",
   "id": "95e23aed",
   "metadata": {},
   "source": [
    "c) Divide feature and target dataset into train and test parts"
   ]
  },
  {
   "cell_type": "markdown",
   "id": "33328092",
   "metadata": {},
   "source": [
    "d) Train the new model and find the optimal K values based on performance"
   ]
  },
  {
   "cell_type": "markdown",
   "id": "743fe972",
   "metadata": {},
   "source": [
    "e) Plot the graph of test accuracy scores versus K values"
   ]
  },
  {
   "cell_type": "markdown",
   "id": "5b7022b8",
   "metadata": {},
   "source": [
    "Note: You might have accuracy within 70-80%. Put your comments for further improvements "
   ]
  },
  {
   "cell_type": "code",
   "execution_count": null,
   "id": "6412c531",
   "metadata": {},
   "outputs": [],
   "source": []
  }
 ],
 "metadata": {
  "kernelspec": {
   "display_name": "Python 3 (ipykernel)",
   "language": "python",
   "name": "python3"
  },
  "language_info": {
   "codemirror_mode": {
    "name": "ipython",
    "version": 3
   },
   "file_extension": ".py",
   "mimetype": "text/x-python",
   "name": "python",
   "nbconvert_exporter": "python",
   "pygments_lexer": "ipython3",
   "version": "3.10.7"
  }
 },
 "nbformat": 4,
 "nbformat_minor": 5
}
