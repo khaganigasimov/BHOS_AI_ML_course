{
 "cells": [
  {
   "cell_type": "markdown",
   "id": "9d03547d",
   "metadata": {},
   "source": [
    "Import all necessary modules"
   ]
  },
  {
   "cell_type": "code",
   "execution_count": null,
   "id": "c6ddd171",
   "metadata": {},
   "outputs": [],
   "source": [
    "import numpy as np\n",
    "import pandas as pd\n",
    "import missingno\n",
    "from sklearn.preprocessing import OneHotEncoder, MinMaxScaler\n",
    "import matplotlib.pyplot as plt\n",
    "import seaborn as sns"
   ]
  },
  {
   "cell_type": "markdown",
   "id": "7f3ab7f8",
   "metadata": {},
   "source": [
    "<h2>Missing Data Analysis</h2>"
   ]
  },
  {
   "cell_type": "markdown",
   "id": "7d6c5dfa",
   "metadata": {},
   "source": [
    "Run the next cell. "
   ]
  },
  {
   "cell_type": "code",
   "execution_count": null,
   "id": "08ce8057",
   "metadata": {},
   "outputs": [],
   "source": [
    "pd.options.display.max_rows = 81"
   ]
  },
  {
   "cell_type": "markdown",
   "id": "861de3aa",
   "metadata": {},
   "source": [
    "Read the dataset of House Price Train"
   ]
  },
  {
   "cell_type": "code",
   "execution_count": null,
   "id": "43a1fc47",
   "metadata": {},
   "outputs": [],
   "source": []
  },
  {
   "cell_type": "markdown",
   "id": "a1752306",
   "metadata": {},
   "source": [
    "use isna() and sum() functions to get the numbers of missing values in each column. "
   ]
  },
  {
   "cell_type": "code",
   "execution_count": null,
   "id": "baa0f778",
   "metadata": {},
   "outputs": [],
   "source": []
  },
  {
   "cell_type": "markdown",
   "id": "d96cde3c",
   "metadata": {},
   "source": [
    "Apply the previous one by dividing the total number of rows and by multiplying 100 so that you can get only percentage data."
   ]
  },
  {
   "cell_type": "code",
   "execution_count": null,
   "id": "6d9bf633",
   "metadata": {},
   "outputs": [],
   "source": []
  },
  {
   "cell_type": "markdown",
   "id": "6dd04402",
   "metadata": {},
   "source": [
    "It is hard to understand the info about nan data among such number of columns. It would be better if we print only the columns containing at least one Nan value. There is a way to do this. Just apply the following:"
   ]
  },
  {
   "attachments": {
    "isnan%20data.png": {
     "image/png": "[encoded data removed]"
    }
   },
   "cell_type": "markdown",
   "id": "6f858448",
   "metadata": {},
   "source": [
    "![isnan%20data.png](attachment:isnan%20data.png)"
   ]
  },
  {
   "cell_type": "code",
   "execution_count": null,
   "id": "aa0d7e8a",
   "metadata": {},
   "outputs": [],
   "source": []
  },
  {
   "cell_type": "markdown",
   "id": "d57c5b60",
   "metadata": {},
   "source": [
    "There are some columns suffering from nan values. So, which columns do you think are completely useless?"
   ]
  },
  {
   "cell_type": "code",
   "execution_count": null,
   "id": "f204b869",
   "metadata": {},
   "outputs": [],
   "source": []
  },
  {
   "cell_type": "markdown",
   "id": "305c9e19",
   "metadata": {},
   "source": [
    "There is another way to analyze missing data - plotting a matrix with missingno.matrix method. Include parameters of label_rotation = 90, labels = column_names. You should also define column_names from dataset as a **_list_**. Put your comments about the plot to make sure which columns are completely useless? Compare your comments with your previous experience ."
   ]
  },
  {
   "cell_type": "code",
   "execution_count": null,
   "id": "5cdc1449",
   "metadata": {},
   "outputs": [],
   "source": []
  },
  {
   "cell_type": "markdown",
   "id": "872f0396",
   "metadata": {},
   "source": [
    "It should be stated that not all nan data indicate some inconsistencies in the dataset. Sometimes, datapoints are intentionally left empty. For example, PoolQC - pool quality contains the highest number of missing datapoints. Why? Because in most houses, there is no pool so there is no point to evaluate the pool quality, and therefore, it is considered to be empty. But doesn't having pool mean higher price logically?"
   ]
  },
  {
   "cell_type": "markdown",
   "id": "3200b916",
   "metadata": {},
   "source": [
    "One more interesting point. GarageType, GarageYrBlt, GarageFinish, GarageQual, and GarageCond columns have the same percentage of 5.547945 %. Does it mean that nan values inside those columns indicate the case of having no garage? So do you think having garage can affect your price positively or negatively?"
   ]
  },
  {
   "cell_type": "markdown",
   "id": "bae6603a",
   "metadata": {},
   "source": [
    "Run the next cell. Ignore FutureWarning"
   ]
  },
  {
   "cell_type": "code",
   "execution_count": null,
   "id": "0fe5df98",
   "metadata": {},
   "outputs": [],
   "source": [
    "pd.reset_option('all')"
   ]
  },
  {
   "cell_type": "markdown",
   "id": "abb4cd64",
   "metadata": {},
   "source": [
    "<h2>Encoding</h2>"
   ]
  },
  {
   "cell_type": "markdown",
   "id": "27c9cad2",
   "metadata": {},
   "source": [
    "Apply One Hot Encoder on LotShape column. Get feature names in a new variable, say **_columns_** additionally. Create a dataset containing only these encoded features. Also, use **_columns_** variable to define column names in new dataset."
   ]
  },
  {
   "cell_type": "code",
   "execution_count": null,
   "id": "cf5ed3d1",
   "metadata": {},
   "outputs": [],
   "source": []
  },
  {
   "cell_type": "markdown",
   "id": "72c82459",
   "metadata": {},
   "source": [
    "Call corr() function to analyze correlations. Do you see high correlations except for 1 values? Which columns have extremely high correlations with each other?"
   ]
  },
  {
   "cell_type": "code",
   "execution_count": null,
   "id": "6129e874",
   "metadata": {},
   "outputs": [],
   "source": []
  },
  {
   "cell_type": "markdown",
   "id": "536379a6",
   "metadata": {},
   "source": [
    "Concatenate SalePrice column data with this new dataset. Call corr function to analyze correlations with only SalePrice."
   ]
  },
  {
   "cell_type": "code",
   "execution_count": null,
   "id": "126c4fb0",
   "metadata": {},
   "outputs": [],
   "source": []
  },
  {
   "cell_type": "markdown",
   "id": "0fc9e9a2",
   "metadata": {},
   "source": [
    "Apply One Hot Encoder on LotShape column again with additional parameter of drop = 'first'. Follow the same procedure, such as analyzing correlations among features and with SalePrice column. You see high correlations again? "
   ]
  },
  {
   "cell_type": "code",
   "execution_count": null,
   "id": "b797aaa6",
   "metadata": {},
   "outputs": [],
   "source": []
  },
  {
   "cell_type": "markdown",
   "id": "9c31320f",
   "metadata": {},
   "source": [
    "<h2>Outlier Detection</h2>"
   ]
  },
  {
   "cell_type": "markdown",
   "id": "5c631456",
   "metadata": {},
   "source": [
    "Start with getting the shape of dataframe"
   ]
  },
  {
   "cell_type": "code",
   "execution_count": null,
   "id": "2fa3737f",
   "metadata": {},
   "outputs": [],
   "source": []
  },
  {
   "cell_type": "markdown",
   "id": "2b5a12af",
   "metadata": {},
   "source": [
    "Remember in \"Data Analysis with Pandas\" we saw that there are some outliers in GrLivArea column? We didn't remove them in that tutorial. Now we have the ability to remove. Sketch a Box plot to visualize the case."
   ]
  },
  {
   "cell_type": "code",
   "execution_count": null,
   "id": "2dda8597",
   "metadata": {},
   "outputs": [],
   "source": []
  },
  {
   "cell_type": "markdown",
   "id": "f024632a",
   "metadata": {},
   "source": [
    "Define your lower and upper limits based on quantiles. "
   ]
  },
  {
   "cell_type": "markdown",
   "id": "025557c1",
   "metadata": {},
   "source": [
    "IQR = Q3 - Q1"
   ]
  },
  {
   "cell_type": "markdown",
   "id": "def371f9",
   "metadata": {},
   "source": [
    "lower = Q1 - 1.5 * IQR"
   ]
  },
  {
   "cell_type": "markdown",
   "id": "a607a464",
   "metadata": {},
   "source": [
    "upper = Q3 + 1.5 * IQR"
   ]
  },
  {
   "cell_type": "code",
   "execution_count": null,
   "id": "0de6542d",
   "metadata": {},
   "outputs": [],
   "source": []
  },
  {
   "cell_type": "markdown",
   "id": "877cf39f",
   "metadata": {},
   "source": [
    "Go back to Box plot and try to see the lower and upper boundaries in the sketch. You see similarities with your findings?"
   ]
  },
  {
   "cell_type": "code",
   "execution_count": null,
   "id": "89d3d0d1",
   "metadata": {},
   "outputs": [],
   "source": []
  },
  {
   "cell_type": "markdown",
   "id": "25785d09",
   "metadata": {},
   "source": [
    "Now, it is time to remove outliers. You should use loc to choose the dataframe based on condition which will be free from outliers. Apply these conditions separately:"
   ]
  },
  {
   "cell_type": "markdown",
   "id": "b08da893",
   "metadata": {},
   "source": [
    "df['GrLivArea'] < upper"
   ]
  },
  {
   "cell_type": "markdown",
   "id": "ec82683f",
   "metadata": {},
   "source": [
    "df['GrLivArea'] > lower"
   ]
  },
  {
   "cell_type": "markdown",
   "id": "8090a847",
   "metadata": {},
   "source": [
    "Do not use them both directly so as not to have a problem. "
   ]
  },
  {
   "cell_type": "code",
   "execution_count": null,
   "id": "2c609e55",
   "metadata": {},
   "outputs": [],
   "source": []
  },
  {
   "cell_type": "markdown",
   "id": "ab425769",
   "metadata": {},
   "source": [
    "Get the shape of dataframe. What kind of changes you see now?"
   ]
  },
  {
   "cell_type": "code",
   "execution_count": null,
   "id": "fef6c35c",
   "metadata": {},
   "outputs": [],
   "source": []
  },
  {
   "cell_type": "markdown",
   "id": "61559523",
   "metadata": {},
   "source": [
    "Question: is it always good to remove outliers?"
   ]
  },
  {
   "cell_type": "code",
   "execution_count": null,
   "id": "016750c5",
   "metadata": {},
   "outputs": [],
   "source": []
  },
  {
   "cell_type": "markdown",
   "id": "e57caadc",
   "metadata": {},
   "source": [
    "<h2>Feature Scaling</h2>"
   ]
  },
  {
   "cell_type": "markdown",
   "id": "350f9bba",
   "metadata": {},
   "source": [
    "Before moving on scaling, we should choose features that we think are effective enough for modeling. For now, you are free to choose ones you think that can help, however, there are some methods in order to apply this procedure automatically, which is out of the scope of this tutorial."
   ]
  },
  {
   "cell_type": "markdown",
   "id": "e04df278",
   "metadata": {},
   "source": [
    "Let's choose the ones having higher correlations with SalePrice. Define your own threshold and get the new dataset of specific features."
   ]
  },
  {
   "cell_type": "code",
   "execution_count": null,
   "id": "518762b8",
   "metadata": {},
   "outputs": [],
   "source": []
  },
  {
   "cell_type": "markdown",
   "id": "c84ee58c",
   "metadata": {},
   "source": [
    "Now, apply MinMaxScaler to transform the data to new form of the data between only 0 and 1 values. It is better to apply this into features not target - SalePrice"
   ]
  },
  {
   "cell_type": "code",
   "execution_count": null,
   "id": "eda5c7ac",
   "metadata": {},
   "outputs": [],
   "source": []
  },
  {
   "cell_type": "markdown",
   "id": "2cb25c82",
   "metadata": {},
   "source": [
    "Take one colum to visualize the case of distribution plot. You can also use scatter plot with two different columns."
   ]
  },
  {
   "cell_type": "code",
   "execution_count": null,
   "id": "5690461b",
   "metadata": {},
   "outputs": [],
   "source": []
  },
  {
   "cell_type": "markdown",
   "id": "df815843",
   "metadata": {},
   "source": [
    "<h2>Optional Homework</h2>"
   ]
  },
  {
   "cell_type": "markdown",
   "id": "14fa455a",
   "metadata": {},
   "source": [
    "Apply the following formula in your whole chosen dataframe to scale the data between 0 and 1. "
   ]
  },
  {
   "cell_type": "markdown",
   "id": "1b9c4fb8",
   "metadata": {},
   "source": [
    "This homework can be done with pandas more easily since the axis is chosen 0 by default. However, for your good practice, it is advised to use NumPy version of the dataframe and solve the problem with basic understanding of axis terms."
   ]
  },
  {
   "attachments": {
    "min%20max%20scaling.png": {
     "image/png": "[encoded data removed]"
    }
   },
   "cell_type": "markdown",
   "id": "1dc4ff28",
   "metadata": {},
   "source": [
    "![min%20max%20scaling.png](attachment:min%20max%20scaling.png)"
   ]
  },
  {
   "cell_type": "code",
   "execution_count": null,
   "id": "d98208eb",
   "metadata": {},
   "outputs": [],
   "source": []
  }
 ],
 "metadata": {
  "kernelspec": {
   "display_name": "Python 3 (ipykernel)",
   "language": "python",
   "name": "python3"
  },
  "language_info": {
   "codemirror_mode": {
    "name": "ipython",
    "version": 3
   },
   "file_extension": ".py",
   "mimetype": "text/x-python",
   "name": "python",
   "nbconvert_exporter": "python",
   "pygments_lexer": "ipython3",
   "version": "3.10.7"
  }
 },
 "nbformat": 4,
 "nbformat_minor": 5
}
